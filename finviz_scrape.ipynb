{
 "metadata": {
  "language_info": {
   "codemirror_mode": {
    "name": "ipython",
    "version": 3
   },
   "file_extension": ".py",
   "mimetype": "text/x-python",
   "name": "python",
   "nbconvert_exporter": "python",
   "pygments_lexer": "ipython3",
   "version": "3.8.5-final"
  },
  "orig_nbformat": 2,
  "kernelspec": {
   "name": "python_defaultSpec_1600352633302",
   "display_name": "Python 3.8.5 64-bit ('financepy': conda)"
  }
 },
 "nbformat": 4,
 "nbformat_minor": 2,
 "cells": [
  {
   "cell_type": "code",
   "execution_count": 1,
   "metadata": {},
   "outputs": [],
   "source": [
    "# Packages\n",
    "import pandas as pd\n",
    "\n",
    "from bs4 import BeautifulSoup as bs\n",
    "import requests"
   ]
  },
  {
   "cell_type": "code",
   "execution_count": 11,
   "metadata": {},
   "outputs": [],
   "source": [
    "def fundamental_metric(soup, metric):\n",
    "    return soup.find(text = metric).find_next(class_='snapshot-td2').text\n",
    "\n",
    "def get_fundamental_data(df):\n",
    "    for symbol in df.index:\n",
    "        try:\n",
    "            url = (\"http://finviz.com/quote.ashx?t=\" + symbol.lower())\n",
    "            headers = {'User-Agent': 'Mozilla/5.0 (Windows NT 6.1; WOW64; rv:20.0) Gecko/20100101 Firefox/20.0'}\n",
    "            soup = bs(requests.get(url, headers=headers).content)\n",
    "            for m in df.columns:\n",
    "                df.loc[symbol, m ] = fundamental_metric(soup, m)\n",
    "        except Exception as e:\n",
    "            print(symbol, 'not found')\n",
    "    return df"
   ]
  },
  {
   "cell_type": "code",
   "execution_count": 31,
   "metadata": {},
   "outputs": [],
   "source": [
    "stock_list = ['AMZN','GOOG','PG','KO','IBM','DG','XOM','KO','PEP','MT','NL','RTX','LPL']\n",
    "\n",
    "metric = ['Price',\n",
    "'P/B',\n",
    "'P/E',\n",
    "'Forward P/E',\n",
    "'PEG',\n",
    "'Debt/Eq',\n",
    "'EPS (ttm)',\n",
    "'Dividend %',\n",
    "'ROE',\n",
    "'ROI',\n",
    "'EPS Q/Q',\n",
    "'Insider Own'\n",
    "]"
   ]
  },
  {
   "cell_type": "code",
   "execution_count": 37,
   "metadata": {
    "tags": []
   },
   "outputs": [],
   "source": [
    "df = pd.DataFrame(index = stock_list, columns = metric)\n",
    "df = get_fundamental_data(df)\n",
    "\n",
    "for char in [\"%\", \" \", \"/\"]:\n",
    "    df.columns = df.columns.str.replace(char, \"\")\n",
    "\n",
    "for col in ['Dividend', 'ROE', 'ROI', 'EPSQQ', 'InsiderOwn']:\n",
    "    df[col] = df[col].str.replace(\"%\", '')\n",
    "df = df.apply(pd.to_numeric, errors='coerce')"
   ]
  },
  {
   "cell_type": "code",
   "execution_count": 35,
   "metadata": {},
   "outputs": [
    {
     "output_type": "execute_result",
     "data": {
      "text/plain": "        Price     PB      PE  ForwardPE   PEG  DebtEq  EPS(ttm)  Dividend  \\\nAMZN  3014.82  20.87  118.32      69.70  3.28    0.69     26.02       NaN   \nGOOG  1505.69   5.00   33.43      26.95  5.49     NaN     45.49       NaN   \nPG     137.56   7.49   27.77      23.90  3.60    0.76      4.96      2.30   \nKO      50.51  12.48   23.89      24.57  8.13    2.99      2.13      3.23   \nIBM    125.14   5.38   13.85      10.17  5.39    3.15      8.97      5.25   \nDG     203.68   6.90   22.03      20.79  1.49    0.00      9.21      0.71   \nXOM     37.57   0.90   25.11      27.90  1.94    0.39      1.51      9.20   \nKO      50.51  12.48   23.89      24.57  8.13    2.99      2.13      3.23   \nPEP    134.24  14.98   27.49      22.72  5.02    3.60      4.91      3.03   \nMT      13.43   0.41     NaN      11.22   NaN    0.38     -4.00      1.54   \nNL       4.02   0.65   17.40       6.18   NaN    0.00      0.23      3.98   \nRTX     63.40   1.41  154.22      16.36   NaN    0.49      0.41      3.02   \nLPL      6.92   0.54     NaN      19.19   NaN    1.36     -3.42       NaN   \n\n       ROE   ROI  EPSQQ  InsiderOwn  \nAMZN  20.5  11.7   97.4       10.90  \nGOOG   NaN   NaN  -30.0        5.75  \nPG    28.3  16.1  153.6        0.10  \nKO    50.1  12.0  -31.9        0.30  \nIBM   39.7  11.4  -46.1        0.10  \nDG    33.5  18.9   89.7        0.20  \nXOM    3.9   2.3 -134.5        0.10  \nKO    50.1  12.0  -31.9        0.30  \nPEP   49.9  17.8  -18.2        0.14  \nMT   -11.0  -2.1  -13.3       44.80  \nNL     3.7  -0.7  -22.0        0.20  \nRTX   -3.4   7.5 -286.9        0.10  \nLPL  -24.9 -10.8   10.8       51.10  ",
      "text/html": "<div>\n<style scoped>\n    .dataframe tbody tr th:only-of-type {\n        vertical-align: middle;\n    }\n\n    .dataframe tbody tr th {\n        vertical-align: top;\n    }\n\n    .dataframe thead th {\n        text-align: right;\n    }\n</style>\n<table border=\"1\" class=\"dataframe\">\n  <thead>\n    <tr style=\"text-align: right;\">\n      <th></th>\n      <th>Price</th>\n      <th>PB</th>\n      <th>PE</th>\n      <th>ForwardPE</th>\n      <th>PEG</th>\n      <th>DebtEq</th>\n      <th>EPS(ttm)</th>\n      <th>Dividend</th>\n      <th>ROE</th>\n      <th>ROI</th>\n      <th>EPSQQ</th>\n      <th>InsiderOwn</th>\n    </tr>\n  </thead>\n  <tbody>\n    <tr>\n      <th>AMZN</th>\n      <td>3014.82</td>\n      <td>20.87</td>\n      <td>118.32</td>\n      <td>69.70</td>\n      <td>3.28</td>\n      <td>0.69</td>\n      <td>26.02</td>\n      <td>NaN</td>\n      <td>20.5</td>\n      <td>11.7</td>\n      <td>97.4</td>\n      <td>10.90</td>\n    </tr>\n    <tr>\n      <th>GOOG</th>\n      <td>1505.69</td>\n      <td>5.00</td>\n      <td>33.43</td>\n      <td>26.95</td>\n      <td>5.49</td>\n      <td>NaN</td>\n      <td>45.49</td>\n      <td>NaN</td>\n      <td>NaN</td>\n      <td>NaN</td>\n      <td>-30.0</td>\n      <td>5.75</td>\n    </tr>\n    <tr>\n      <th>PG</th>\n      <td>137.56</td>\n      <td>7.49</td>\n      <td>27.77</td>\n      <td>23.90</td>\n      <td>3.60</td>\n      <td>0.76</td>\n      <td>4.96</td>\n      <td>2.30</td>\n      <td>28.3</td>\n      <td>16.1</td>\n      <td>153.6</td>\n      <td>0.10</td>\n    </tr>\n    <tr>\n      <th>KO</th>\n      <td>50.51</td>\n      <td>12.48</td>\n      <td>23.89</td>\n      <td>24.57</td>\n      <td>8.13</td>\n      <td>2.99</td>\n      <td>2.13</td>\n      <td>3.23</td>\n      <td>50.1</td>\n      <td>12.0</td>\n      <td>-31.9</td>\n      <td>0.30</td>\n    </tr>\n    <tr>\n      <th>IBM</th>\n      <td>125.14</td>\n      <td>5.38</td>\n      <td>13.85</td>\n      <td>10.17</td>\n      <td>5.39</td>\n      <td>3.15</td>\n      <td>8.97</td>\n      <td>5.25</td>\n      <td>39.7</td>\n      <td>11.4</td>\n      <td>-46.1</td>\n      <td>0.10</td>\n    </tr>\n    <tr>\n      <th>DG</th>\n      <td>203.68</td>\n      <td>6.90</td>\n      <td>22.03</td>\n      <td>20.79</td>\n      <td>1.49</td>\n      <td>0.00</td>\n      <td>9.21</td>\n      <td>0.71</td>\n      <td>33.5</td>\n      <td>18.9</td>\n      <td>89.7</td>\n      <td>0.20</td>\n    </tr>\n    <tr>\n      <th>XOM</th>\n      <td>37.57</td>\n      <td>0.90</td>\n      <td>25.11</td>\n      <td>27.90</td>\n      <td>1.94</td>\n      <td>0.39</td>\n      <td>1.51</td>\n      <td>9.20</td>\n      <td>3.9</td>\n      <td>2.3</td>\n      <td>-134.5</td>\n      <td>0.10</td>\n    </tr>\n    <tr>\n      <th>KO</th>\n      <td>50.51</td>\n      <td>12.48</td>\n      <td>23.89</td>\n      <td>24.57</td>\n      <td>8.13</td>\n      <td>2.99</td>\n      <td>2.13</td>\n      <td>3.23</td>\n      <td>50.1</td>\n      <td>12.0</td>\n      <td>-31.9</td>\n      <td>0.30</td>\n    </tr>\n    <tr>\n      <th>PEP</th>\n      <td>134.24</td>\n      <td>14.98</td>\n      <td>27.49</td>\n      <td>22.72</td>\n      <td>5.02</td>\n      <td>3.60</td>\n      <td>4.91</td>\n      <td>3.03</td>\n      <td>49.9</td>\n      <td>17.8</td>\n      <td>-18.2</td>\n      <td>0.14</td>\n    </tr>\n    <tr>\n      <th>MT</th>\n      <td>13.43</td>\n      <td>0.41</td>\n      <td>NaN</td>\n      <td>11.22</td>\n      <td>NaN</td>\n      <td>0.38</td>\n      <td>-4.00</td>\n      <td>1.54</td>\n      <td>-11.0</td>\n      <td>-2.1</td>\n      <td>-13.3</td>\n      <td>44.80</td>\n    </tr>\n    <tr>\n      <th>NL</th>\n      <td>4.02</td>\n      <td>0.65</td>\n      <td>17.40</td>\n      <td>6.18</td>\n      <td>NaN</td>\n      <td>0.00</td>\n      <td>0.23</td>\n      <td>3.98</td>\n      <td>3.7</td>\n      <td>-0.7</td>\n      <td>-22.0</td>\n      <td>0.20</td>\n    </tr>\n    <tr>\n      <th>RTX</th>\n      <td>63.40</td>\n      <td>1.41</td>\n      <td>154.22</td>\n      <td>16.36</td>\n      <td>NaN</td>\n      <td>0.49</td>\n      <td>0.41</td>\n      <td>3.02</td>\n      <td>-3.4</td>\n      <td>7.5</td>\n      <td>-286.9</td>\n      <td>0.10</td>\n    </tr>\n    <tr>\n      <th>LPL</th>\n      <td>6.92</td>\n      <td>0.54</td>\n      <td>NaN</td>\n      <td>19.19</td>\n      <td>NaN</td>\n      <td>1.36</td>\n      <td>-3.42</td>\n      <td>NaN</td>\n      <td>-24.9</td>\n      <td>-10.8</td>\n      <td>10.8</td>\n      <td>51.10</td>\n    </tr>\n  </tbody>\n</table>\n</div>"
     },
     "metadata": {},
     "execution_count": 35
    }
   ],
   "source": [
    "df"
   ]
  },
  {
   "cell_type": "code",
   "execution_count": 28,
   "metadata": {},
   "outputs": [
    {
     "output_type": "execute_result",
     "data": {
      "text/plain": "      PB    PE  ForwardPE  PEG  DebtEq  EPS(ttm)  Dividend  ROE  ROI  EPSQQ  \\\nNL  0.65  17.4       6.18  NaN     0.0      0.23      3.98  3.7 -0.7  -22.0   \n\n    InsiderOwn  \nNL         0.2  ",
      "text/html": "<div>\n<style scoped>\n    .dataframe tbody tr th:only-of-type {\n        vertical-align: middle;\n    }\n\n    .dataframe tbody tr th {\n        vertical-align: top;\n    }\n\n    .dataframe thead th {\n        text-align: right;\n    }\n</style>\n<table border=\"1\" class=\"dataframe\">\n  <thead>\n    <tr style=\"text-align: right;\">\n      <th></th>\n      <th>PB</th>\n      <th>PE</th>\n      <th>ForwardPE</th>\n      <th>PEG</th>\n      <th>DebtEq</th>\n      <th>EPS(ttm)</th>\n      <th>Dividend</th>\n      <th>ROE</th>\n      <th>ROI</th>\n      <th>EPSQQ</th>\n      <th>InsiderOwn</th>\n    </tr>\n  </thead>\n  <tbody>\n    <tr>\n      <th>NL</th>\n      <td>0.65</td>\n      <td>17.4</td>\n      <td>6.18</td>\n      <td>NaN</td>\n      <td>0.0</td>\n      <td>0.23</td>\n      <td>3.98</td>\n      <td>3.7</td>\n      <td>-0.7</td>\n      <td>-22.0</td>\n      <td>0.2</td>\n    </tr>\n  </tbody>\n</table>\n</div>"
     },
     "metadata": {},
     "execution_count": 28
    }
   ],
   "source": [
    "\n",
    "df_filtered = df[(df['PE'].astype(float)<20) & (df['PB'].astype(float) < 1)]\n",
    "df_filtered"
   ]
  },
  {
   "cell_type": "code",
   "execution_count": 42,
   "metadata": {},
   "outputs": [
    {
     "output_type": "execute_result",
     "data": {
      "text/plain": "     Price    PB  PE  ForwardPE  PEG  DebtEq  EPS(ttm)  Dividend   ROE   ROI  \\\nMT   13.55  0.41 NaN      11.22  NaN    0.38     -4.00      1.54 -11.0  -2.1   \nLPL   6.92  0.54 NaN      19.19  NaN    1.36     -3.42       NaN -24.9 -10.8   \n\n     EPSQQ  InsiderOwn  \nMT   -13.3        44.8  \nLPL   10.8        51.1  ",
      "text/html": "<div>\n<style scoped>\n    .dataframe tbody tr th:only-of-type {\n        vertical-align: middle;\n    }\n\n    .dataframe tbody tr th {\n        vertical-align: top;\n    }\n\n    .dataframe thead th {\n        text-align: right;\n    }\n</style>\n<table border=\"1\" class=\"dataframe\">\n  <thead>\n    <tr style=\"text-align: right;\">\n      <th></th>\n      <th>Price</th>\n      <th>PB</th>\n      <th>PE</th>\n      <th>ForwardPE</th>\n      <th>PEG</th>\n      <th>DebtEq</th>\n      <th>EPS(ttm)</th>\n      <th>Dividend</th>\n      <th>ROE</th>\n      <th>ROI</th>\n      <th>EPSQQ</th>\n      <th>InsiderOwn</th>\n    </tr>\n  </thead>\n  <tbody>\n    <tr>\n      <th>MT</th>\n      <td>13.55</td>\n      <td>0.41</td>\n      <td>NaN</td>\n      <td>11.22</td>\n      <td>NaN</td>\n      <td>0.38</td>\n      <td>-4.00</td>\n      <td>1.54</td>\n      <td>-11.0</td>\n      <td>-2.1</td>\n      <td>-13.3</td>\n      <td>44.8</td>\n    </tr>\n    <tr>\n      <th>LPL</th>\n      <td>6.92</td>\n      <td>0.54</td>\n      <td>NaN</td>\n      <td>19.19</td>\n      <td>NaN</td>\n      <td>1.36</td>\n      <td>-3.42</td>\n      <td>NaN</td>\n      <td>-24.9</td>\n      <td>-10.8</td>\n      <td>10.8</td>\n      <td>51.1</td>\n    </tr>\n  </tbody>\n</table>\n</div>"
     },
     "metadata": {},
     "execution_count": 42
    }
   ],
   "source": [
    "\n",
    "df_filtered = df[(df['InsiderOwn'].astype(float)>30) & (df['PB'].astype(float) < 3)]\n",
    "df_filtered"
   ]
  }
 ]
}